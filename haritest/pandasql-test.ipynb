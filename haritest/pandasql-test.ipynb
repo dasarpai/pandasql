{
 "cells": [
  {
   "cell_type": "code",
   "execution_count": null,
   "metadata": {},
   "outputs": [],
   "source": [
    "!pip list"
   ]
  },
  {
   "cell_type": "code",
   "execution_count": 1,
   "metadata": {},
   "outputs": [],
   "source": [
    "from sklearn.datasets import load_iris\n",
    "import pandas as pd\n",
    "from pandasql import sqldf\n",
    "from pandasql import load_meat, load_births\n",
    "import re\n",
    "\n"
   ]
  },
  {
   "cell_type": "code",
   "execution_count": 3,
   "metadata": {},
   "outputs": [],
   "source": [
    "births = load_births()\n",
    "meat = load_meat()\n",
    "iris = load_iris()\n",
    "iris_df = pd.DataFrame(iris.data, columns=iris.feature_names)\n",
    "iris_df['species'] = pd.Categorical.from_codes(iris.target, iris.target_names)\n",
    "iris_df.columns = [re.sub(\"[() ]\", \"\", col) for col in iris_df.columns]\n",
    "\n",
    "\n"
   ]
  },
  {
   "cell_type": "code",
   "execution_count": 4,
   "metadata": {},
   "outputs": [
    {
     "name": "stdout",
     "output_type": "stream",
     "text": [
      "   sepallengthcm  sepalwidthcm  petallengthcm  petalwidthcm species\n",
      "0            5.1           3.5            1.4           0.2  setosa\n",
      "1            4.9           3.0            1.4           0.2  setosa\n",
      "2            4.7           3.2            1.3           0.2  setosa\n",
      "3            4.6           3.1            1.5           0.2  setosa\n",
      "4            5.0           3.6            1.4           0.2  setosa\n",
      "5            5.4           3.9            1.7           0.4  setosa\n",
      "6            4.6           3.4            1.4           0.3  setosa\n",
      "7            5.0           3.4            1.5           0.2  setosa\n",
      "8            4.4           2.9            1.4           0.2  setosa\n",
      "9            4.9           3.1            1.5           0.1  setosa\n"
     ]
    }
   ],
   "source": [
    "print(sqldf(\"SELECT * FROM iris_df LIMIT 10;\", locals()))\n"
   ]
  },
  {
   "cell_type": "code",
   "execution_count": 5,
   "metadata": {},
   "outputs": [
    {
     "name": "stdout",
     "output_type": "stream",
     "text": [
      "   sepalwidthcm species\n",
      "0           3.5  setosa\n",
      "1           3.0  setosa\n",
      "2           3.2  setosa\n",
      "3           3.1  setosa\n",
      "4           3.6  setosa\n",
      "5           3.9  setosa\n",
      "6           3.4  setosa\n",
      "7           3.4  setosa\n",
      "8           2.9  setosa\n",
      "9           3.1  setosa\n"
     ]
    }
   ],
   "source": [
    "print(sqldf(\"SELECT sepalwidthcm, species FROM iris_df LIMIT 10;\", locals()))"
   ]
  },
  {
   "cell_type": "code",
   "execution_count": 6,
   "metadata": {},
   "outputs": [
    {
     "name": "stdout",
     "output_type": "stream",
     "text": [
      "********************************************************************************\n",
      "aggregation\n",
      "--------------------------------------------------------------------------------\n",
      "\n",
      "      select\n",
      "        species\n",
      "        , avg(sepalwidthcm)\n",
      "        , min(sepalwidthcm)\n",
      "        , max(sepalwidthcm)\n",
      "      from\n",
      "        iris_df\n",
      "      group by\n",
      "        species;\n",
      "        \n",
      "\n",
      "      species  avg(sepalwidthcm)  min(sepalwidthcm)  max(sepalwidthcm)\n",
      "0      setosa              3.428                2.3                4.4\n",
      "1  versicolor              2.770                2.0                3.4\n",
      "2   virginica              2.974                2.2                3.8\n"
     ]
    }
   ],
   "source": [
    "q = \"\"\"\n",
    "      select\n",
    "        species\n",
    "        , avg(sepalwidthcm)\n",
    "        , min(sepalwidthcm)\n",
    "        , max(sepalwidthcm)\n",
    "      from\n",
    "        iris_df\n",
    "      group by\n",
    "        species;\n",
    "        \n",
    "\"\"\"\n",
    "print(\"*\" * 80)\n",
    "print(\"aggregation\")\n",
    "print(\"-\" * 80)\n",
    "print(q)\n",
    "print(sqldf(q, locals()))"
   ]
  },
  {
   "cell_type": "code",
   "execution_count": 7,
   "metadata": {},
   "outputs": [
    {
     "name": "stdout",
     "output_type": "stream",
     "text": [
      "********************************************************************************\n",
      "calling from a helper function\n",
      "def pysqldf(q):)\n",
      "    \"add this to your script if you get tired of calling locals()\"\n",
      "        return sqldf(q, globals())\n",
      "--------------------------------------------------------------------------------\n",
      "\n",
      "      select\n",
      "        species\n",
      "        , avg(sepalwidthcm)\n",
      "        , min(sepalwidthcm)\n",
      "        , max(sepalwidthcm)\n",
      "      from\n",
      "        iris_df\n",
      "      group by\n",
      "        species;\n",
      "        \n",
      "\n",
      "      species  avg(sepalwidthcm)  min(sepalwidthcm)  max(sepalwidthcm)\n",
      "0      setosa              3.428                2.3                4.4\n",
      "1  versicolor              2.770                2.0                3.4\n",
      "2   virginica              2.974                2.2                3.8\n"
     ]
    }
   ],
   "source": [
    "def pysqldf(q):\n",
    "    \"add this to your script if you get tired of calling locals()\"\n",
    "    return sqldf(q, globals())\n",
    "\n",
    "\n",
    "print(\"*\" * 80)\n",
    "print(\"calling from a helper function\")\n",
    "print('''def pysqldf(q):)\n",
    "    \"add this to your script if you get tired of calling locals()\"\n",
    "        return sqldf(q, globals())''')\n",
    "print(\"-\" * 80)\n",
    "print(q)\n",
    "print(pysqldf(q))\n",
    "\n"
   ]
  },
  {
   "cell_type": "code",
   "execution_count": 8,
   "metadata": {},
   "outputs": [
    {
     "name": "stdout",
     "output_type": "stream",
     "text": [
      "********************************************************************************\n",
      "joins\n",
      "--------------------------------------------------------------------------------\n",
      "\n",
      "    select\n",
      "        a.*\n",
      "    from\n",
      "        iris_df a\n",
      "    inner join\n",
      "        iris_df b\n",
      "            on a.species = b.species\n",
      "    limit 10;\n",
      "\n",
      "   sepallengthcm  sepalwidthcm  petallengthcm  petalwidthcm species\n",
      "0            5.1           3.5            1.4           0.2  setosa\n",
      "1            5.1           3.5            1.4           0.2  setosa\n",
      "2            5.1           3.5            1.4           0.2  setosa\n",
      "3            5.1           3.5            1.4           0.2  setosa\n",
      "4            5.1           3.5            1.4           0.2  setosa\n",
      "5            5.1           3.5            1.4           0.2  setosa\n",
      "6            5.1           3.5            1.4           0.2  setosa\n",
      "7            5.1           3.5            1.4           0.2  setosa\n",
      "8            5.1           3.5            1.4           0.2  setosa\n",
      "9            5.1           3.5            1.4           0.2  setosa\n"
     ]
    }
   ],
   "source": [
    "q = \"\"\"\n",
    "    select\n",
    "        a.*\n",
    "    from\n",
    "        iris_df a\n",
    "    inner join\n",
    "        iris_df b\n",
    "            on a.species = b.species\n",
    "    limit 10;\n",
    "\"\"\"\n",
    "\n",
    "print(\"*\" * 80)\n",
    "print(\"joins\")\n",
    "print(\"-\" * 80)\n",
    "print(q)\n",
    "print(pysqldf(q))\n",
    "\n"
   ]
  },
  {
   "cell_type": "code",
   "execution_count": 9,
   "metadata": {},
   "outputs": [
    {
     "name": "stdout",
     "output_type": "stream",
     "text": [
      "********************************************************************************\n",
      "where clause\n",
      "--------------------------------------------------------------------------------\n",
      "\n",
      "    select\n",
      "        *\n",
      "    from\n",
      "        iris_df\n",
      "    where\n",
      "        species = 'virginica'\n",
      "        and sepallengthcm > 7.7;\n",
      "\n",
      "   sepallengthcm  sepalwidthcm  petallengthcm  petalwidthcm    species\n",
      "0            7.9           3.8            6.4           2.0  virginica\n"
     ]
    }
   ],
   "source": [
    "q = \"\"\"\n",
    "    select\n",
    "        *\n",
    "    from\n",
    "        iris_df\n",
    "    where\n",
    "        species = 'virginica'\n",
    "        and sepallengthcm > 7.7;\n",
    "\"\"\"\n",
    "print(\"*\" * 80)\n",
    "print(\"where clause\")\n",
    "print(\"-\" * 80)\n",
    "print(q)\n",
    "print(pysqldf(q))\n",
    "iris_df['id'] = range(len(iris_df))\n"
   ]
  },
  {
   "cell_type": "code",
   "execution_count": 11,
   "metadata": {},
   "outputs": [
    {
     "name": "stdout",
     "output_type": "stream",
     "text": [
      "********************************************************************************\n",
      "subqueries\n",
      "--------------------------------------------------------------------------------\n",
      "\n",
      "    select\n",
      "        *\n",
      "    from\n",
      "        iris_df\n",
      "    where\n",
      "        id in (select id from iris_df where sepalwidthcm*sepallengthcm > 25);\n",
      "\n",
      "   sepallengthcm  sepalwidthcm  petallengthcm  petalwidthcm    species   id\n",
      "0            5.7           4.4            1.5           0.4     setosa   15\n",
      "1            7.2           3.6            6.1           2.5  virginica  109\n",
      "2            7.7           3.8            6.7           2.2  virginica  117\n",
      "3            7.9           3.8            6.4           2.0  virginica  131\n"
     ]
    }
   ],
   "source": [
    "q = \"\"\"\n",
    "    select\n",
    "        *\n",
    "    from\n",
    "        iris_df\n",
    "    where\n",
    "        id in (select id from iris_df where sepalwidthcm*sepallengthcm > 25);\n",
    "\"\"\"\n",
    "print(\"*\" * 80)\n",
    "print(\"subqueries\")\n",
    "print(\"-\" * 80)\n",
    "print(q)\n",
    "print(pysqldf(q))\n",
    "\n"
   ]
  },
  {
   "cell_type": "code",
   "execution_count": 10,
   "metadata": {},
   "outputs": [
    {
     "name": "stdout",
     "output_type": "stream",
     "text": [
      "                         date    beef  veal    pork  lamb_and_mutton  \\\n",
      "0  1975-01-01 00:00:00.000000  2106.0  59.0  1114.0             36.0   \n",
      "1  1975-02-01 00:00:00.000000  1845.0  50.0   954.0             31.0   \n",
      "2  1975-03-01 00:00:00.000000  1891.0  57.0   976.0             35.0   \n",
      "3  1975-04-01 00:00:00.000000  1895.0  60.0  1100.0             34.0   \n",
      "4  1975-05-01 00:00:00.000000  1849.0  59.0   934.0             31.0   \n",
      "\n",
      "   broilers  other_chicken  turkey  births  \n",
      "0     646.2            NaN    64.9  265775  \n",
      "1     570.2            NaN    47.1  241045  \n",
      "2     616.6            NaN    54.4  268849  \n",
      "3     688.3            NaN    68.7  247455  \n",
      "4     690.1            NaN    81.9  254545  \n"
     ]
    }
   ],
   "source": [
    "q = \"\"\"\n",
    "    SELECT\n",
    "        m.*\n",
    "        , b.births\n",
    "    FROM\n",
    "        meat m\n",
    "    INNER JOIN\n",
    "        births b\n",
    "            on m.date = b.date\n",
    "    ORDER BY\n",
    "        m.date;\n",
    "\"\"\"\n",
    "\n",
    "print(pysqldf(q).head())"
   ]
  },
  {
   "cell_type": "code",
   "execution_count": null,
   "metadata": {},
   "outputs": [],
   "source": []
  },
  {
   "cell_type": "code",
   "execution_count": 13,
   "metadata": {},
   "outputs": [
    {
     "data": {
      "text/html": [
       "<div>\n",
       "<style scoped>\n",
       "    .dataframe tbody tr th:only-of-type {\n",
       "        vertical-align: middle;\n",
       "    }\n",
       "\n",
       "    .dataframe tbody tr th {\n",
       "        vertical-align: top;\n",
       "    }\n",
       "\n",
       "    .dataframe thead th {\n",
       "        text-align: right;\n",
       "    }\n",
       "</style>\n",
       "<table border=\"1\" class=\"dataframe\">\n",
       "  <thead>\n",
       "    <tr style=\"text-align: right;\">\n",
       "      <th></th>\n",
       "      <th>date</th>\n",
       "      <th>beef</th>\n",
       "      <th>veal</th>\n",
       "      <th>pork</th>\n",
       "      <th>lamb_and_mutton</th>\n",
       "      <th>broilers</th>\n",
       "      <th>other_chicken</th>\n",
       "      <th>turkey</th>\n",
       "    </tr>\n",
       "  </thead>\n",
       "  <tbody>\n",
       "    <tr>\n",
       "      <th>0</th>\n",
       "      <td>1944-01-01 00:00:00.000000</td>\n",
       "      <td>751.0</td>\n",
       "      <td>85.0</td>\n",
       "      <td>1280.0</td>\n",
       "      <td>89.0</td>\n",
       "      <td>None</td>\n",
       "      <td>None</td>\n",
       "      <td>None</td>\n",
       "    </tr>\n",
       "    <tr>\n",
       "      <th>1</th>\n",
       "      <td>1944-02-01 00:00:00.000000</td>\n",
       "      <td>713.0</td>\n",
       "      <td>77.0</td>\n",
       "      <td>1169.0</td>\n",
       "      <td>72.0</td>\n",
       "      <td>None</td>\n",
       "      <td>None</td>\n",
       "      <td>None</td>\n",
       "    </tr>\n",
       "    <tr>\n",
       "      <th>2</th>\n",
       "      <td>1944-03-01 00:00:00.000000</td>\n",
       "      <td>741.0</td>\n",
       "      <td>90.0</td>\n",
       "      <td>1128.0</td>\n",
       "      <td>75.0</td>\n",
       "      <td>None</td>\n",
       "      <td>None</td>\n",
       "      <td>None</td>\n",
       "    </tr>\n",
       "    <tr>\n",
       "      <th>3</th>\n",
       "      <td>1944-04-01 00:00:00.000000</td>\n",
       "      <td>650.0</td>\n",
       "      <td>89.0</td>\n",
       "      <td>978.0</td>\n",
       "      <td>66.0</td>\n",
       "      <td>None</td>\n",
       "      <td>None</td>\n",
       "      <td>None</td>\n",
       "    </tr>\n",
       "    <tr>\n",
       "      <th>4</th>\n",
       "      <td>1944-05-01 00:00:00.000000</td>\n",
       "      <td>681.0</td>\n",
       "      <td>106.0</td>\n",
       "      <td>1029.0</td>\n",
       "      <td>78.0</td>\n",
       "      <td>None</td>\n",
       "      <td>None</td>\n",
       "      <td>None</td>\n",
       "    </tr>\n",
       "  </tbody>\n",
       "</table>\n",
       "</div>"
      ],
      "text/plain": [
       "                         date   beef   veal    pork  lamb_and_mutton broilers  \\\n",
       "0  1944-01-01 00:00:00.000000  751.0   85.0  1280.0             89.0     None   \n",
       "1  1944-02-01 00:00:00.000000  713.0   77.0  1169.0             72.0     None   \n",
       "2  1944-03-01 00:00:00.000000  741.0   90.0  1128.0             75.0     None   \n",
       "3  1944-04-01 00:00:00.000000  650.0   89.0   978.0             66.0     None   \n",
       "4  1944-05-01 00:00:00.000000  681.0  106.0  1029.0             78.0     None   \n",
       "\n",
       "  other_chicken turkey  \n",
       "0          None   None  \n",
       "1          None   None  \n",
       "2          None   None  \n",
       "3          None   None  \n",
       "4          None   None  "
      ]
     },
     "execution_count": 13,
     "metadata": {},
     "output_type": "execute_result"
    }
   ],
   "source": [
    "from pandasql import sqldf, load_meat, load_births\n",
    "pysqldf = lambda q: sqldf(q, globals())\n",
    "meat = load_meat()\n",
    "births = load_births()\n",
    "pysqldf(\"SELECT * FROM meat LIMIT 10;\").head()\n"
   ]
  },
  {
   "cell_type": "code",
   "execution_count": null,
   "metadata": {},
   "outputs": [],
   "source": []
  },
  {
   "cell_type": "code",
   "execution_count": null,
   "metadata": {},
   "outputs": [],
   "source": []
  }
 ],
 "metadata": {
  "kernelspec": {
   "display_name": ".venv",
   "language": "python",
   "name": "python3"
  },
  "language_info": {
   "codemirror_mode": {
    "name": "ipython",
    "version": 3
   },
   "file_extension": ".py",
   "mimetype": "text/x-python",
   "name": "python",
   "nbconvert_exporter": "python",
   "pygments_lexer": "ipython3",
   "version": "3.12.4"
  }
 },
 "nbformat": 4,
 "nbformat_minor": 2
}
